{
  "nbformat": 4,
  "nbformat_minor": 0,
  "metadata": {
    "colab": {
      "provenance": []
    },
    "kernelspec": {
      "name": "python3",
      "display_name": "Python 3"
    },
    "language_info": {
      "name": "python"
    }
  },
  "cells": [
    {
      "cell_type": "code",
      "execution_count": null,
      "metadata": {
        "id": "dqcnEXVvZHHH"
      },
      "outputs": [],
      "source": [
        "'''1] Explain the key features of Python that make it a popular choice for programming.\n",
        "Key features of python includes:\n",
        "a] It is widely use in industry.\n",
        "b] It have a lot of libraries.i.e.NumPy, Pandas, etc.\n",
        "c] Image processing and Automation purpose.\n",
        "d] It have ease of learning.\n",
        "e] It have versatality.\n",
        "f] Python's clean and short syntax provides outstanding readability.\n",
        "g] Python have huge active community.\n",
        "i] Python is a popular language for frontend and backend web development due to its simplicity.\n",
        "j] Python is a high-level language, because meaning the code is closer to human language than machine language.'''\n"
      ]
    },
    {
      "cell_type": "code",
      "source": [
        "'''2] Describe the role of predefined keywords in Python and provide examples of how they are used in a program.\n",
        "a] Keywords are reserved words in python.\n",
        "b] We cannot use a keyword as a variable name, function name or any other identifier.\n",
        "c] They are used to define the syntax and structure of the python language.\n",
        "d] They holds the special meaning and have specific purpose.\n",
        "e] It has a set of predefined keywords for various purposes, including control flow (if, else,for, while) and managing data (True, False, None).\n",
        "\n",
        "Example'''\n",
        "a = 20\n",
        "if a > 10:                                     #if keyword\n",
        "    print(\"a is greater than 10\")              #print keyword\n",
        "elif a == 5:                                  #elif keyword\n",
        "    print(\"a is equal to 10\")\n",
        "else:                                         #else keyword\n",
        "    print(\"a is less than 10\")\n",
        "\n",
        "\n",
        "\n"
      ],
      "metadata": {
        "colab": {
          "base_uri": "https://localhost:8080/"
        },
        "id": "-zLk6iBOZkPg",
        "outputId": "239b25db-2e95-459b-ddea-cca7380675ae"
      },
      "execution_count": 2,
      "outputs": [
        {
          "output_type": "stream",
          "name": "stdout",
          "text": [
            "a is greater than 10\n"
          ]
        }
      ]
    },
    {
      "cell_type": "code",
      "source": [
        "'''3] Compare and contrast mutable and immutable objects in Python with examples.\n",
        "Mutable Objects :\n",
        "Mutable objects can be changed after they are created. This means that we can modify the contents of the object (like elements in a list) without creating a new object.\n",
        "Common mutable types in Python include:\n",
        "a] Lists\n",
        "b] Dictionaries\n",
        "c] Sets'''\n",
        "# List is mutable\n",
        "my_list = [12,15,44]\n",
        "my_list[0] = 10  # Modifies the first '0'th index element\n",
        "print(my_list)\n",
        "\n",
        "# Dictionary is mutable\n",
        "my_dict = {\"name\": \"Sahil\", \"age\": 25}\n",
        "my_dict[\"age\"] = 23  # Modifies the value\n",
        "print(my_dict)\n",
        "\n"
      ],
      "metadata": {
        "colab": {
          "base_uri": "https://localhost:8080/"
        },
        "id": "Qgq8_ThXg7Dr",
        "outputId": "d2d24e43-950f-4d3f-9121-91859de092be"
      },
      "execution_count": 6,
      "outputs": [
        {
          "output_type": "stream",
          "name": "stdout",
          "text": [
            "[10, 15, 44]\n",
            "{'name': 'Sahil', 'age': 23}\n"
          ]
        }
      ]
    },
    {
      "cell_type": "code",
      "source": [
        "'''Immutable Objects\n",
        "Immutable objects cannot be changed once they are created. Any attempt to modify an immutable object results in the creation of a new object rather than altering the original.\n",
        "Common immutable types in Python include:\n",
        "a] Tuples\n",
        "b] Strings\n",
        "c] Frozensets'''\n",
        "\n",
        "# String is immutable\n",
        "my_string = \"hello\"\n",
        "new_string = my_string.replace(\"h\", \"H\")  # Does not modify `my_string`\n",
        "print(my_string)  # Output: \"hello\" (original string is unchanged)\n",
        "print(new_string) # Output: \"Hello\" (new string created)\n",
        "\n",
        "\n"
      ],
      "metadata": {
        "colab": {
          "base_uri": "https://localhost:8080/"
        },
        "id": "TcDK4HO6kMLz",
        "outputId": "931530fe-7408-44e4-ac6a-720b20d659c6"
      },
      "execution_count": 10,
      "outputs": [
        {
          "output_type": "stream",
          "name": "stdout",
          "text": [
            "hello\n",
            "Hello\n"
          ]
        }
      ]
    },
    {
      "cell_type": "code",
      "source": [
        "# Tuple is immutable\n",
        "my_tuple = (1, 2, 3)\n",
        "my_tuple[0] = 10  # This would raise a TypeError: 'tuple' object does not support item assignment\n"
      ],
      "metadata": {
        "colab": {
          "base_uri": "https://localhost:8080/",
          "height": 176
        },
        "id": "CWyVhbYIk-v8",
        "outputId": "fea752e5-04ac-44f0-fabb-542b8802af72"
      },
      "execution_count": 13,
      "outputs": [
        {
          "output_type": "error",
          "ename": "TypeError",
          "evalue": "'tuple' object does not support item assignment",
          "traceback": [
            "\u001b[0;31m---------------------------------------------------------------------------\u001b[0m",
            "\u001b[0;31mTypeError\u001b[0m                                 Traceback (most recent call last)",
            "\u001b[0;32m<ipython-input-13-594ade05f60d>\u001b[0m in \u001b[0;36m<cell line: 3>\u001b[0;34m()\u001b[0m\n\u001b[1;32m      1\u001b[0m \u001b[0;31m# Tuple is immutable\u001b[0m\u001b[0;34m\u001b[0m\u001b[0;34m\u001b[0m\u001b[0m\n\u001b[1;32m      2\u001b[0m \u001b[0mmy_tuple\u001b[0m \u001b[0;34m=\u001b[0m \u001b[0;34m(\u001b[0m\u001b[0;36m1\u001b[0m\u001b[0;34m,\u001b[0m \u001b[0;36m2\u001b[0m\u001b[0;34m,\u001b[0m \u001b[0;36m3\u001b[0m\u001b[0;34m)\u001b[0m\u001b[0;34m\u001b[0m\u001b[0;34m\u001b[0m\u001b[0m\n\u001b[0;32m----> 3\u001b[0;31m \u001b[0mmy_tuple\u001b[0m\u001b[0;34m[\u001b[0m\u001b[0;36m0\u001b[0m\u001b[0;34m]\u001b[0m \u001b[0;34m=\u001b[0m \u001b[0;36m10\u001b[0m  \u001b[0;31m# This would raise a TypeError: 'tuple' object does not support item assignment\u001b[0m\u001b[0;34m\u001b[0m\u001b[0;34m\u001b[0m\u001b[0m\n\u001b[0m",
            "\u001b[0;31mTypeError\u001b[0m: 'tuple' object does not support item assignment"
          ]
        }
      ]
    },
    {
      "cell_type": "code",
      "source": [
        " '''4] Explain the concept of type casting in Python with examples.\n",
        "The process of changing the data types of a variable/object, then it is called type casting.\n",
        "It includes two types:\n",
        "a] Implicit Type Casting: Python automatically converts one data type to another without requiring explicit instruction from the user.\n",
        "Python automatically performs implicit type conversion in certain operations, usually when a data type with a smaller range is combined with a data type of a larger range.\n",
        "For example, if you add an integer and a float, Python will automatically convert the integer to a float to avoid losing information.\n",
        "Example of Implicit Type Casting'''\n",
        "# Integer and float addition\n",
        "num_int = 10\n",
        "num_float = 5.5\n",
        "\n",
        "result = num_int + num_float  # Python converts num_int to float\n",
        "print(result)         # Output: 15.5\n",
        "print(type(result))   # Output: <class 'float'>\n",
        "\n",
        "'''b] Explicit Type Casting: The user manually converts one data type to another using Python's built-in functions.\n",
        "In explicit type casting, the programmer uses specific functions to convert a variable to a desired type. Python provides several built-in functions for type conversion, such as:\n",
        "\n",
        "int(): Converts a value to an integer.\n",
        "float(): Converts a value to a floating-point number.\n",
        "str(): Converts a value to a string.\n",
        "list(): Converts an iterable (e.g., a tuple or string) to a list.\n",
        "tuple(): Converts an iterable to a tuple.\n",
        "dict(): Converts a sequence of key-value pairs to a dictionary.\n",
        "Example of Explicit Type Casting'''\n",
        "# Converting a float to an integer\n",
        "num_float = 7.1\n",
        "num_int = int(num_float)  # Truncates the decimal part\n",
        "print(num_int)            # Output: 7\n",
        "\n",
        "# Converting an integer to a string\n",
        "age = 25\n",
        "age_str = str(age)\n",
        "print(age_str)            # Output: '25'\n",
        "print(type(age_str))      # Output: <class 'str'>\n",
        "\n",
        "# Converting a list to a tuple\n",
        "my_list = [12,45,99]\n",
        "my_tuple = tuple(my_list)\n",
        "print(my_tuple)           # Output: (12,45,99)\n",
        "print(type(my_tuple))     # Output: <class 'tuple'>\n",
        "\n",
        "# Converting a string to a float\n",
        "num_str = \"86.40\"\n",
        "num_float = float(num_str)\n",
        "print(num_float)          # Output: 86.40\n",
        "print(type(num_float))    # Output: <class 'float'>\n",
        "\n",
        ""
      ],
      "metadata": {
        "colab": {
          "base_uri": "https://localhost:8080/"
        },
        "id": "dQZX0vu8dPSE",
        "outputId": "7c822772-e845-4cf5-f213-3c0f7a67aff9"
      },
      "execution_count": 14,
      "outputs": [
        {
          "output_type": "stream",
          "name": "stdout",
          "text": [
            "15.5\n",
            "<class 'float'>\n",
            "7\n",
            "25\n",
            "<class 'str'>\n",
            "(12, 45, 99)\n",
            "<class 'tuple'>\n",
            "86.4\n",
            "<class 'float'>\n"
          ]
        }
      ]
    },
    {
      "cell_type": "code",
      "source": [
        "'''5] Discuss the different types of operators in Python and provide examples of how they are used.\n",
        "In Python, operators are special symbols/keywords that perform operations on variables and value.\n",
        "It includes various types of operators :\n",
        "a] Arithmetic operators - These operators are used to perform mathematical operations.\n",
        "Operator\t         Description\t               Example\n",
        "+\t                  Addition\t                10 + 3 = 13\n",
        "-\t                 Subtraction\t              10 - 3 = 7\n",
        "*\t                 Multiplication           \t10 * 3 = 30\n",
        "/\t                 Division                 \t10 / 2 = 5\n",
        "//\t              Floor Division\t            10 // 2 = 5\n",
        "%\t                Modulus (Remainder)       \t10 % 2 = 0\n",
        "**\t              Exponentiation\t            10 ** 2 = 100'''\n",
        "a = 15\n",
        "b = 2\n",
        "print(a + b)  # Additition\n",
        "print(a - b)  #subtraction\n",
        "print(a * b)  #multiplication\n",
        "print(a / b)  #division\n",
        "print(a % b)  #modulus\n",
        "print(a ** b) #Expoentiation\n",
        "print(a // b) #floor division\n"
      ],
      "metadata": {
        "colab": {
          "base_uri": "https://localhost:8080/"
        },
        "id": "net5W0fApBMi",
        "outputId": "2d3d2ee4-fd1f-448f-f241-dcab43cd4dda"
      },
      "execution_count": 15,
      "outputs": [
        {
          "output_type": "stream",
          "name": "stdout",
          "text": [
            "17\n",
            "13\n",
            "30\n",
            "7.5\n",
            "1\n",
            "225\n",
            "7\n"
          ]
        }
      ]
    },
    {
      "cell_type": "code",
      "source": [
        "'''b] Assignment operators - These operators assign values to variables and can combine other operations with assignment.\n",
        "Operator\t                   Description\t                         Example\n",
        "=\t                            Assignment\t                          a = 5\n",
        "+=\t                        Add and assign\t                        a += 3 (equivalent to a = a + 3)\n",
        "-=\t                        Subtract and assign\t                    a -= 2\n",
        "*=\t                         Multiply and assign\t                  a *= 4\n",
        "/=\t                          Divide and assign\t                    a /= 2\n",
        "//=\t                          Floor divide and assign\t              a //= 2\n",
        "%=\t                          Modulus and assign\t                  a %= 3\n",
        "**=\t                          Exponentiate and assign\t              a **= 2'''\n",
        "\n",
        "a = 20   # Initial assignment\n",
        "print(\"Initial value of a:\", a)\n",
        "\n",
        "# Add and assign\n",
        "a += 5    # a = a + 5\n",
        "print(\"After a += 5:\", a)\n",
        "\n",
        "# Subtract and assign\n",
        "a -= 3    # a = a - 3\n",
        "print(\"After a -= 3:\", a)\n",
        "\n",
        "# Multiply and assign\n",
        "a *= 2    # a = a * 2\n",
        "print(\"After a *= 2:\", a)\n",
        "\n",
        "# Divide and assign\n",
        "a/= 4    # a= a / 4\n",
        "print(\"After a /= 4:\", a)\n",
        "\n",
        "# Modulus and assign\n",
        "a %= 5    # a = a % 5\n",
        "print(\"After a %= 5:\",a)\n",
        "\n",
        "# Exponent and assign\n",
        "a **= 3   #a = a ** 3\n",
        "print(\"After a **= 3:\",a)\n",
        "\n",
        "# Floor divide and assign\n",
        "a = 20    # Reset ato 20\n",
        "a //= 3   # a = a // 3\n",
        "print(\"After a //= 3:\", a)\n",
        "\n"
      ],
      "metadata": {
        "colab": {
          "base_uri": "https://localhost:8080/"
        },
        "id": "yH3fiiQprcQ7",
        "outputId": "e34d1fad-ba36-4b1f-b0a3-20023a3aaf8e"
      },
      "execution_count": 18,
      "outputs": [
        {
          "output_type": "stream",
          "name": "stdout",
          "text": [
            "Initial value of a: 20\n",
            "After a += 5: 25\n",
            "After a -= 3: 22\n",
            "After a *= 2: 44\n",
            "After a /= 4: 11.0\n",
            "After a %= 5: 1.0\n",
            "After a **= 3: 1.0\n",
            "After a //= 3: 6\n"
          ]
        }
      ]
    },
    {
      "cell_type": "code",
      "source": [
        "'''c] Comparison operators - These operators compare values and return a Boolean result (True or False).\n",
        "Operator\t          Description\t                   Example\n",
        "==\t                Equal to\t                      5 == 3 → False\n",
        "!=\t                Not equal to\t                  5 != 3 → True\n",
        ">\t                  Greater than                   \t5 > 3 → True\n",
        "<\t                  Less than\t                      5 < 3 → False\n",
        ">=\t                Greater than or equal to\t      5 >= 3 → True\n",
        "<=\t                Less than or equal to\t          5 <= 3 → False'''\n",
        "a = 10\n",
        "b = 5\n",
        "print(a == b)  #equal\n",
        "print(a != b)  #not equal\n",
        "print(a > b)   #greater than\n",
        "print(a < b)   #less than\n",
        "print(a >= b)  #greater than or equal\n",
        "print(a <= b) #lesser than or equal"
      ],
      "metadata": {
        "colab": {
          "base_uri": "https://localhost:8080/"
        },
        "id": "YjcM-NOotrxS",
        "outputId": "69860012-f03b-41de-98fb-53afc18e7765"
      },
      "execution_count": 19,
      "outputs": [
        {
          "output_type": "stream",
          "name": "stdout",
          "text": [
            "False\n",
            "True\n",
            "True\n",
            "False\n",
            "True\n",
            "False\n"
          ]
        }
      ]
    },
    {
      "cell_type": "code",
      "source": [
        "'''d] Logical operators - These operators are used to combine conditional statements.\n",
        "Operator\t                  Description\t                               Example\n",
        "and\t                      True if both are true\t               (5 > 3) and (3 < 8) → True\n",
        "or\t                      True if at least one is true\t        (5 > 3) or (3 > 8) → True\n",
        "not\t                      True if condition is false\t            not(5 > 3) → False'''\n",
        "x, y = True, False\n",
        "print(x and y)  # Output: False\n",
        "print(x or y)   # Output: True\n",
        "print(not x)    # Output: False\n",
        "\n"
      ],
      "metadata": {
        "colab": {
          "base_uri": "https://localhost:8080/"
        },
        "id": "W_HtJjsuuxqp",
        "outputId": "ab159c79-3b05-4510-da22-3c3cdeb3a9be"
      },
      "execution_count": 23,
      "outputs": [
        {
          "output_type": "stream",
          "name": "stdout",
          "text": [
            "False\n",
            "True\n",
            "False\n"
          ]
        }
      ]
    },
    {
      "cell_type": "code",
      "source": [
        "'''e] Identity operators - These operators test if two variables refer to the same object in memory.\n",
        "\n",
        "Operator\t                             Description\t                           Example\n",
        "is\t                        True if objects are identical\t                     a is b\n",
        "is not\t                    True if objects are not identical\t                 a is not b'''\n",
        "a = [1, 2, 3]\n",
        "b = a\n",
        "c = [1, 2, 3]\n",
        "print(a is b)         # Output: True\n",
        "print(a is not c)     # Output: True\n",
        "\n"
      ],
      "metadata": {
        "colab": {
          "base_uri": "https://localhost:8080/"
        },
        "id": "vx7Jm3RHv1qS",
        "outputId": "e0642e4e-6973-4a8f-ebb2-3782ad263184"
      },
      "execution_count": 25,
      "outputs": [
        {
          "output_type": "stream",
          "name": "stdout",
          "text": [
            "True\n",
            "True\n"
          ]
        }
      ]
    },
    {
      "cell_type": "code",
      "source": [
        "'''f] Membership operators - These operators test whether a value is a member of a sequence, such as a list, tuple, or string.\n",
        "Operator\t                    Description\t                                                 Example\n",
        "in\t                    True if value is in sequence\t                              'a' in 'apple' → True\n",
        "not in\t                True if value is not in sequence\t                          'x' not in 'apple' → True'''\n",
        "lst = [1, 2, 3]\n",
        "print(2 in lst)     # Output: True\n",
        "print(4 not in lst) # Output: True\n",
        "\n"
      ],
      "metadata": {
        "colab": {
          "base_uri": "https://localhost:8080/"
        },
        "id": "N1NB0XlTwaAR",
        "outputId": "f248817f-26d7-40ba-c20f-45fda69f6901"
      },
      "execution_count": 26,
      "outputs": [
        {
          "output_type": "stream",
          "name": "stdout",
          "text": [
            "True\n",
            "True\n"
          ]
        }
      ]
    },
    {
      "cell_type": "code",
      "source": [
        "'''g] Bitwise operators - These operators perform bit-level operations on integers.\n",
        "Operator\t                      Description\t                            Example\n",
        "&\t                              Bitwise AND\t                            5 & 3 → 1\n",
        "`\t                                   `\t                                 Bitwise OR\n",
        "^\t                              Bitwise XOR\t                            5 ^ 3 → 6\n",
        "~\t                              Bitwise NOT\t                            ~5 → -6\n",
        "<<\t                            Left shift\t                            5 << 1 → 10\n",
        ">>\t                            Right shift                           \t5 >> 1 → 2'''\n",
        "a, b = 2, 4\n",
        "print(a & b)  # Output: 0\n",
        "print(a | b)  # Output: 6\n"
      ],
      "metadata": {
        "colab": {
          "base_uri": "https://localhost:8080/"
        },
        "id": "GKYWB9pVr39p",
        "outputId": "4b0701eb-ed33-4d9c-c4d6-3f23aae7fbc8"
      },
      "execution_count": 27,
      "outputs": [
        {
          "output_type": "stream",
          "name": "stdout",
          "text": [
            "0\n",
            "6\n"
          ]
        }
      ]
    },
    {
      "cell_type": "code",
      "source": [
        "'''6] How do conditional statements work in Python? Illustrate with examples.\n",
        "In Python, conditional statements are used to perform different actions based on whether a given condition evaluates to True or False. The primary conditional statements in Python are if, elif, and else.\n",
        "\n",
        "Syntax of Conditional Statements\n",
        "a] if statement: Used to test a condition.\n",
        "b] elif (else if) statement: Used to check multiple conditions if the initial if condition is False.\n",
        "c] else statement: Executes when all previous conditions are False.'''\n",
        "#basic example\n",
        "x = 10\n",
        "\n",
        "if x > 4:\n",
        "    print(\"x is greater than 4\")\n",
        "else:\n",
        "    print(\"x is not greater than 4\")\n"
      ],
      "metadata": {
        "colab": {
          "base_uri": "https://localhost:8080/"
        },
        "id": "w3zQu5FUxwC6",
        "outputId": "c0c8113d-b74c-475f-eceb-5c403e091cb9"
      },
      "execution_count": 28,
      "outputs": [
        {
          "output_type": "stream",
          "name": "stdout",
          "text": [
            "x is greater than 4\n"
          ]
        }
      ]
    },
    {
      "cell_type": "code",
      "source": [
        "'''Explanation - If x is greater than 20, the first if block is executed.\n",
        "If the first condition is False, the elif condition checks if x is greater than 10, and executes the corresponding block if true.\n",
        "If none of the above conditions are true, the else block is executed.'''\n",
        "x = 15\n",
        "\n",
        "if x > 20:\n",
        "    print(\"x is greater than 20\")\n",
        "elif x > 10:\n",
        "    print(\"x is greater than 10 but less than or equal to 20\")\n",
        "else:\n",
        "    print(\"x is 10 or less\")\n",
        ""
      ],
      "metadata": {
        "colab": {
          "base_uri": "https://localhost:8080/"
        },
        "id": "Yp0pQccLyqXY",
        "outputId": "029e806a-54d4-4416-e962-4149cc32b9b0"
      },
      "execution_count": 31,
      "outputs": [
        {
          "output_type": "stream",
          "name": "stdout",
          "text": [
            "x is greater than 10 but less than or equal to 20\n"
          ]
        }
      ]
    },
    {
      "cell_type": "code",
      "source": [
        "'''Nested Conditional Statements\n",
        "You can also nest if statements inside other if statements.\n",
        "Example '''\n",
        "x = 10\n",
        "y = 5\n",
        "\n",
        "if x > 5:\n",
        "    if y < 10:\n",
        "        print(\"x is greater than 5 and y is less than 10\")\n",
        "    else:\n",
        "        print(\"x is greater than 5 but y is not less than 10\")\n",
        "else:\n",
        "    print(\"x is not greater than 5\")\n"
      ],
      "metadata": {
        "colab": {
          "base_uri": "https://localhost:8080/"
        },
        "id": "2IJA00WSzoJa",
        "outputId": "a8224175-0ab1-4ce0-cfa5-a25a2d6f7988"
      },
      "execution_count": 32,
      "outputs": [
        {
          "output_type": "stream",
          "name": "stdout",
          "text": [
            "x is greater than 5 and y is less than 10\n"
          ]
        }
      ]
    },
    {
      "cell_type": "code",
      "source": [
        "'''7] Describe the different types of loops in Python and their use cases with examples.\n",
        "Loops is nothing but it allows us to to execute a block of code repeatedly.\n",
        "It provides two types of loops ;\n",
        "a] for loop - It iterate over the sequence of elements.It's typically used when you know in advance how many times you want to repeat a block of code.\n",
        "Syntax :\n",
        "for variable in sequence:\n",
        "    # code block\n",
        "Use Case:\n",
        "Iterating over a list or collection, or performing a repetitive task a specific number of times.\n",
        "Example '''\n",
        "fruits = [\"apple\", \"banana\", \"cherry\"]\n",
        "for fruit in fruits:\n",
        "    print(fruit)\n",
        "\n",
        "# Another Example: Printing numbers from 1 to 9\n",
        "for i in range(1, 10):\n",
        "    print(i)\n",
        "\n"
      ],
      "metadata": {
        "colab": {
          "base_uri": "https://localhost:8080/"
        },
        "id": "HiHGGYatlSvt",
        "outputId": "165f991c-c572-4211-c5aa-1056f619053e"
      },
      "execution_count": 35,
      "outputs": [
        {
          "output_type": "stream",
          "name": "stdout",
          "text": [
            "apple\n",
            "banana\n",
            "cherry\n",
            "1\n",
            "2\n",
            "3\n",
            "4\n",
            "5\n",
            "6\n",
            "7\n",
            "8\n",
            "9\n"
          ]
        }
      ]
    },
    {
      "cell_type": "code",
      "source": [
        "'''b] while loop - It repeatedly executed a block of code until condition is true.\n",
        "Syntax\n",
        "while condition:\n",
        "    # code block\n",
        "    Use Case:\n",
        "Useful when you want to keep looping until a condition changes dynamically, like user input or reaching a certain state.'''\n",
        "# Example: Print numbers from 2 to 10\n",
        "i = 2\n",
        "while i <= 10:\n",
        "    print(i)\n",
        "    i += 1\n",
        "\n"
      ],
      "metadata": {
        "colab": {
          "base_uri": "https://localhost:8080/"
        },
        "id": "XuLE6zoQo_kx",
        "outputId": "4f77b506-f595-44b3-cd6e-772d9573996e"
      },
      "execution_count": 38,
      "outputs": [
        {
          "output_type": "stream",
          "name": "stdout",
          "text": [
            "2\n",
            "3\n",
            "4\n",
            "5\n",
            "6\n",
            "7\n",
            "8\n",
            "9\n",
            "10\n"
          ]
        }
      ]
    },
    {
      "cell_type": "code",
      "source": [
        "'''Loop Control Statements :\n",
        "break: Exits the loop prematurely, regardless of the loop condition.'''\n",
        "for i in range(10):\n",
        "    if i == 5:\n",
        "        break  # Exit the loop when i equals 5\n",
        "    print(i)\n",
        "\n"
      ],
      "metadata": {
        "colab": {
          "base_uri": "https://localhost:8080/"
        },
        "id": "rHZPRHv43PJR",
        "outputId": "f0284329-9b85-4da8-bb16-831753313da3"
      },
      "execution_count": 40,
      "outputs": [
        {
          "output_type": "stream",
          "name": "stdout",
          "text": [
            "0\n",
            "1\n",
            "2\n",
            "3\n",
            "4\n"
          ]
        }
      ]
    },
    {
      "cell_type": "code",
      "source": [
        "'''continue: Skips the rest of the current loop iteration and goes to the next iteration.'''\n",
        "for i in range(5):\n",
        "    if i == 2:\n",
        "        continue  # Skip the iteration when i equals 2\n",
        "    print(i)\n"
      ],
      "metadata": {
        "colab": {
          "base_uri": "https://localhost:8080/"
        },
        "id": "U8M47mLq3rTA",
        "outputId": "10964734-702b-4b0d-9023-aec565806902"
      },
      "execution_count": 41,
      "outputs": [
        {
          "output_type": "stream",
          "name": "stdout",
          "text": [
            "0\n",
            "1\n",
            "3\n",
            "4\n"
          ]
        }
      ]
    }
  ]
}